{
 "cells": [
  {
   "cell_type": "code",
   "execution_count": 1,
   "metadata": {},
   "outputs": [],
   "source": [
    "import requests\n",
    "import json\n",
    "from IPython.display import Image, display\n",
    "import plotly.express as px\n",
    "import pandas as pd\n",
    "from pandas import read_csv\n",
    "import numpy as np\n",
    "import plotly.graph_objects as go\n",
    "import sqlite3\n",
    "from pandas import json_normalize"
   ]
  },
  {
   "cell_type": "markdown",
   "metadata": {},
   "source": [
    "Table 1 General Info pokemon\n"
   ]
  },
  {
   "cell_type": "code",
   "execution_count": null,
   "metadata": {},
   "outputs": [],
   "source": [
    "# Define column names\n",
    "column_names = ['id', 'name', 'height', 'order', 'weight', 'types']\n",
    "\n",
    "# Initialize an empty list to store data\n",
    "pokemon_data = []\n",
    "\n",
    "# Iterate through Pokémon IDs\n",
    "for id in range(1,1026 ):\n",
    "    # Make the request to the PokeAPI\n",
    "    request_url = f\"https://pokeapi.co/api/v2/pokemon/{id}/\"\n",
    "    response = requests.get(request_url)\n",
    "    data = json.loads(response.text)\n",
    "        # Extract relevant data\n",
    "    pokemon_info = {\n",
    "        'id': data['id'],\n",
    "        'name': data['name'],\n",
    "        'height': data['height'],\n",
    "        'order': data['order'],\n",
    "        'weight': data['weight'],\n",
    "        'types': data['types']\n",
    "    }\n",
    "\n",
    "    # Append the Pokémon info to the list\n",
    "    pokemon_data.append(pokemon_info)\n",
    "\n",
    "# Convert the list of dictionaries into a DataFrame\n",
    "poke_df = pd.DataFrame(pokemon_data, columns=column_names)\n",
    "\n",
    "# Display the DataFrame\n",
    "poke_df"
   ]
  },
  {
   "cell_type": "code",
   "execution_count": null,
   "metadata": {},
   "outputs": [],
   "source": [
    "# Function to extract type names\n",
    "def extract_type_name(types_data, slot):\n",
    "    for t in types_data:\n",
    "        if t['slot'] == slot:\n",
    "            return t['type']['name']\n",
    "    return None\n",
    "\n",
    "# Apply function to create primary_type and secondary_type columns\n",
    "poke_df['primary_type'] = poke_df['types'].apply(lambda x: extract_type_name(x, 1))\n",
    "poke_df['secondary_type'] = poke_df['types'].apply(lambda x: extract_type_name(x, 2))\n",
    "\n",
    "# Drop the original 'types' column\n",
    "poke_df.drop(columns=['types'], inplace=True)"
   ]
  },
  {
   "cell_type": "code",
   "execution_count": null,
   "metadata": {},
   "outputs": [],
   "source": [
    "# Connect to SQLite database (create if it doesn't exist)\n",
    "conn = sqlite3.connect('pokemon_data.db')\n",
    "\n",
    "# Convert DataFrame to SQLite table\n",
    "poke_df.to_sql('pokedex', conn, if_exists='replace', index=False)\n",
    "\n",
    "# Commit changes and close connection\n",
    "conn.commit()\n",
    "conn.close()\n"
   ]
  },
  {
   "cell_type": "markdown",
   "metadata": {},
   "source": [
    "Table 2 : Poke-Stats"
   ]
  },
  {
   "cell_type": "code",
   "execution_count": null,
   "metadata": {},
   "outputs": [],
   "source": [
    "# Function to fetch data from the PokéAPI for a given Pokémon ID or name\n",
    "def fetch_pokemon_data(id):\n",
    "    url = f\"https://pokeapi.co/api/v2/pokemon/{id}/\"\n",
    "    response = requests.get(url)\n",
    "    if response.status_code == 200:\n",
    "        return response.json()\n",
    "    else:\n",
    "        print(\"Error:\", response.status_code)\n",
    "        return None\n",
    "pokemon_stats_info = []\n",
    "# Example: Fetching data for Pokémon with ID 1 (Bulbasaur)\n",
    "for i in range(1,1026):\n",
    "    pokemon_data = fetch_pokemon_data(i)\n",
    "    # Extract 'id', 'name', and 'stats' from the fetched data\n",
    "    pokemon_stats = {\n",
    "        'id': pokemon_data['id'],\n",
    "        'name': pokemon_data['name'],\n",
    "        'stats': pokemon_data['stats']\n",
    "    }\n",
    "    pokemon_stats_info.append(pokemon_stats)\n",
    "\n",
    "# Create DataFrame for Pokémon stats\n",
    "poke_stats_df = pd.DataFrame(pokemon_stats_info)\n",
    "\n",
    "# Display the DataFrame\n",
    "poke_stats_df"
   ]
  },
  {
   "cell_type": "code",
   "execution_count": null,
   "metadata": {},
   "outputs": [],
   "source": [
    "# Extract data from 'stats' column\n",
    "for row in poke_stats_df.itertuples():\n",
    "    stats_data = row.stats\n",
    "    stat_values = {}\n",
    "    for stat in stats_data:\n",
    "        stat_name = stat['stat']['name']\n",
    "        base_stat = stat['base_stat']\n",
    "        stat_values[stat_name] = base_stat\n",
    "    \n",
    "    # Update the DataFrame with the extracted values\n",
    "    poke_stats_df.loc[row.Index, stat_values.keys()] = stat_values.values()\n",
    "\n",
    "# Display the updated DataFrame\n",
    "poke_stats_df"
   ]
  },
  {
   "cell_type": "code",
   "execution_count": null,
   "metadata": {},
   "outputs": [],
   "source": [
    "# Connect to SQLite database (create if it doesn't exist)\n",
    "conn = sqlite3.connect('pokemon_data.db')\n",
    "\n",
    "# Convert list-like columns to JSON strings\n",
    "poke_stats_df['stats'] = poke_stats_df['stats'].apply(json.dumps)  # Convert stats list to JSON string\n",
    "\n",
    "# Convert DataFrame to SQLite table\n",
    "poke_stats_df.to_sql('stats', conn, if_exists='replace', index=False)\n",
    "\n",
    "# Commit changes and close connection\n",
    "conn.commit()\n",
    "conn.close()"
   ]
  },
  {
   "cell_type": "markdown",
   "metadata": {},
   "source": [
    "Table 3: Evolutions"
   ]
  },
  {
   "cell_type": "code",
   "execution_count": null,
   "metadata": {},
   "outputs": [],
   "source": [
    "# Define column names\n",
    "column_names = ['id', 'name', 'order', 'evolves_from_species', 'evolution_chain','generation']\n",
    "\n",
    "# Initialize an empty list to store data\n",
    "pokemon_species_data = []\n",
    "\n",
    "# Iterate through Pokémon IDs\n",
    "for id in range(1,1026):\n",
    "    # Make the request to the PokeAPI\n",
    "    request_url = f\"https://pokeapi.co/api/v2/pokemon-species/{id}/\"\n",
    "    response = requests.get(request_url)\n",
    "    data = json.loads(response.text)\n",
    "        # Extract relevant data\n",
    "    pokemon_info = {\n",
    "        'id': data['id'],\n",
    "        'name': data['name'],\n",
    "        'order': data['order'],\n",
    "        'evolves_from_species': data['evolves_from_species'],\n",
    "        'evolution_chain': data['evolution_chain'],\n",
    "        'generation': data['generation']\n",
    "    }\n",
    "\n",
    "    # Append the Pokémon info to the list\n",
    "    pokemon_species_data.append(pokemon_info)\n",
    "\n",
    "# Convert the list of dictionaries into a DataFrame\n",
    "poke_species_df = pd.DataFrame(pokemon_species_data, columns=column_names)\n",
    "\n",
    "# Display the DataFrame\n",
    "poke_species_df"
   ]
  },
  {
   "cell_type": "code",
   "execution_count": null,
   "metadata": {},
   "outputs": [],
   "source": [
    "# Extract 'name' from 'generation' column\n",
    "poke_species_df['generation'] = poke_species_df['generation'].apply(lambda x: x['name'])\n",
    "\n",
    "# Extract 'name' from 'evolves_from_species' column\n",
    "poke_species_df['evolves_from_species'] = poke_species_df['evolves_from_species'].apply(lambda x: x['name'] if x is not None else None)"
   ]
  },
  {
   "cell_type": "code",
   "execution_count": null,
   "metadata": {},
   "outputs": [],
   "source": [
    "# Add 'evolves_to' column\n",
    "poke_species_df['evolves_to'] = None\n",
    "\n",
    "# Iterate over each row\n",
    "for index, row in poke_species_df.iterrows():\n",
    "    # Initialize an empty list to store potential evolutions\n",
    "    evolves_to = []\n",
    "    \n",
    "    # Iterate over each row again to check for potential evolutions\n",
    "    for _, next_row in poke_species_df.iterrows():\n",
    "        if row['name'] == next_row['evolves_from_species']:\n",
    "            evolves_to.append(next_row['name'])  # Add potential evolution to the list\n",
    "    \n",
    "    # If there are potential evolutions, assign them to the 'evolves_to' column\n",
    "    if evolves_to:\n",
    "        poke_species_df.at[index, 'evolves_to'] = evolves_to\n",
    "\n",
    "# Display the DataFrame\n",
    "poke_species_df\n"
   ]
  },
  {
   "cell_type": "code",
   "execution_count": null,
   "metadata": {},
   "outputs": [],
   "source": [
    "poke_species_df['generation'] = poke_species_df['generation'].str.replace('generation-', '')\n"
   ]
  },
  {
   "cell_type": "code",
   "execution_count": null,
   "metadata": {},
   "outputs": [],
   "source": [
    "poke_species_df['generation'] = poke_species_df['generation'].str.replace('ix', '9')\n",
    "poke_species_df['generation'] = poke_species_df['generation'].str.replace('viii', '8')\n",
    "poke_species_df['generation'] = poke_species_df['generation'].str.replace('vii', '7')\n",
    "poke_species_df['generation'] = poke_species_df['generation'].str.replace('vi', '6')\n",
    "poke_species_df['generation'] = poke_species_df['generation'].str.replace('iv', '4')\n",
    "poke_species_df['generation'] = poke_species_df['generation'].str.replace('v', '5')\n",
    "poke_species_df['generation'] = poke_species_df['generation'].str.replace('iii', '3')\n",
    "poke_species_df['generation'] = poke_species_df['generation'].str.replace('ii', '2')\n",
    "poke_species_df['generation'] = poke_species_df['generation'].str.replace('i', '1')\n"
   ]
  },
  {
   "cell_type": "code",
   "execution_count": null,
   "metadata": {},
   "outputs": [],
   "source": [
    "poke_species_df"
   ]
  },
  {
   "cell_type": "code",
   "execution_count": null,
   "metadata": {},
   "outputs": [],
   "source": [
    "# Convert the 'generation' column to integer type\n",
    "poke_species_df['generation'] = poke_species_df['generation'].astype(int)"
   ]
  },
  {
   "cell_type": "code",
   "execution_count": null,
   "metadata": {},
   "outputs": [],
   "source": [
    "# Connect to SQLite database (create if it doesn't exist)\n",
    "conn = sqlite3.connect('pokemon_data.db')\n",
    "\n",
    "# Convert list/dict-like columns to JSON strings\n",
    "poke_species_df['evolution_chain'] = poke_species_df['evolution_chain'].apply(json.dumps) \n",
    "poke_species_df['evolves_to'] = poke_species_df['evolves_to'].apply(json.dumps)\n",
    "\n",
    "# Convert DataFrame to SQLite table\n",
    "poke_species_df.to_sql('evolutions', conn, if_exists='replace', index=False)\n",
    "\n",
    "# Commit changes and close connection\n",
    "conn.commit()\n",
    "conn.close()"
   ]
  },
  {
   "cell_type": "code",
   "execution_count": null,
   "metadata": {},
   "outputs": [],
   "source": []
  },
  {
   "cell_type": "code",
   "execution_count": null,
   "metadata": {},
   "outputs": [],
   "source": []
  },
  {
   "cell_type": "code",
   "execution_count": null,
   "metadata": {},
   "outputs": [],
   "source": []
  }
 ],
 "metadata": {
  "kernelspec": {
   "display_name": "Python 3 (ipykernel)",
   "language": "python",
   "name": "python3"
  },
  "language_info": {
   "codemirror_mode": {
    "name": "ipython",
    "version": 3
   },
   "file_extension": ".py",
   "mimetype": "text/x-python",
   "name": "python",
   "nbconvert_exporter": "python",
   "pygments_lexer": "ipython3",
   "version": "3.11.5"
  }
 },
 "nbformat": 4,
 "nbformat_minor": 2
}
